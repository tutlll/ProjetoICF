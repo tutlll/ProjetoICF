{
  "nbformat": 4,
  "nbformat_minor": 0,
  "metadata": {
    "colab": {
      "provenance": []
    },
    "kernelspec": {
      "name": "python3",
      "display_name": "Python 3"
    },
    "language_info": {
      "name": "python"
    }
  },
  "cells": [
    {
      "cell_type": "code",
      "source": [
        "#Convertendo o banco de dados em uma lista da seguinte forma:\n",
        "#data = [número da linha , Nome/Identificador , paralaxe, Mag U , Mag B , Mag V , Mag R , Mag I , Tipo spectral]\n",
        "data_0 = open('data_SIMBAD_2.txt','r')\n",
        "data_1=[]\n",
        "data=[]\n",
        "for i in data_0:\n",
        "  i=i.rstrip().split('|')\n",
        "  for j in i:\n",
        "    j=j.replace(' ','')\n",
        "    data_1.append(j)\n",
        "  data.append(data_1)\n",
        "  data_1=[]\n",
        "\n",
        "#Posição dos parametros na lista referente ao banco de dados com as estrelas\n",
        "posplx=2\n",
        "posmv=5\n",
        "posmb=4\n",
        "postipospc=8\n",
        "\n",
        "#Convertendo para lista, uma tabela de referência para estrelas da sequência principal\n",
        "# data_seqprinc = [ Tipo spectral(Todos da seq principal), temperatura efetiva, log(Teff), Correção Bolmetrica em v, log(luminosidade), MagBolometrica, R/Rsol, Mag em V, B-V, Massa/Massasol]\n",
        "data_seqprinc=[]\n",
        "ms=open('tabela_mainseq.txt','r')\n",
        "for i in ms:\n",
        "  i=i.rstrip().split(' ')\n",
        "  data_seqprinc.append(i)"
      ],
      "metadata": {
        "id": "pmKSVLXX4jA6"
      },
      "execution_count": 343,
      "outputs": []
    },
    {
      "cell_type": "code",
      "execution_count": 349,
      "metadata": {
        "id": "7LVoMU5VJraC",
        "colab": {
          "base_uri": "https://localhost:8080/"
        },
        "outputId": "c2433e6d-e605-4152-c508-7a1a466136a9"
      },
      "outputs": [
        {
          "name": "stdout",
          "output_type": "stream",
          "text": [
            "Informe o Fluxo \"f\" ou a magnitude \"m\"(Digite f ou m)m\n",
            "Caso não tenha o parâmetro solicitado responda \"~\"\n",
            "Valor da magnitude em V: 9.97\n",
            "Valor da magnitude em B: 10.49\n",
            "Paralaxe: 5.9692\n"
          ]
        }
      ],
      "source": [
        "from prompt_toolkit.application.application import Input\n",
        "\n",
        "import numpy as np\n",
        "import math \n",
        "#magnitudes de Vega nas respectivas bandas de frequência\n",
        "Vega={ 'U':4.175*1e-08,\t'B': 6.32*1e-08,'V':\t3.631*1e-08,'R':\t2.177*1e-08,'I':1.126*1e-08\t}\n",
        "#Função que retorna a magnitude da estela\n",
        "#Parâmetros: Fluxo em (W^-1  m^−2  µm^−1) e Banda de frequência (string)\n",
        "#Exemplo : magnitude(0.02*1e-08 , 'V')\n",
        "def magnitude(fluxo,freq):\n",
        "  if fluxo!='~':\n",
        "    flx=float(fluxo)/float(Vega[freq])\n",
        "    mag= -2.5*(math.log(flx,10))\n",
        "    return mag\n",
        "  else:\n",
        "    return 0\n",
        "#Solicitando os parâmetros ao usuário\n",
        "s=input('Informe o Fluxo \"f\" ou a magnitude \"m\"(Digite f ou m)')\n",
        "print('Caso não tenha o parâmetro solicitado responda \"~\"')\n",
        "if s=='f':\n",
        "  Fv=float(input('Valor do fluxo em V: '))\n",
        "  Fb=float(input('Valor do fluxo em B: '))\n",
        "  plx=float(input('Paralaxe: '))\n",
        "  mv=magnitude(Fv,'V')\n",
        "  mb=magnitude(Fb,'B')\n",
        "elif s=='m':\n",
        "  mv=float(input('Valor da magnitude em V: '))\n",
        "  mb=float(input('Valor da magnitude em B: '))\n",
        "  plx=float(input('Paralaxe: '))\n",
        "else:\n",
        "  print('Erro')"
      ]
    },
    {
      "cell_type": "code",
      "source": [
        "\n",
        "#Função que realiza a consulta no banco de dados retornando uma lista das estrelas que correspondem ao valor fornecido\n",
        "#Parâmetros : parâmetro que deseja filtrar, posição desse parâmetro na tabela, banco de dados a ser consultado, eroo tolerado para a medida\n",
        "#Exemplo: consulta(plx,1,data,0.02,'float')\n",
        "def consultafloat(param,pos,dados,erro):\n",
        "  selecionados=[]\n",
        "  for i in dados:\n",
        "    if i[pos]!='~':\n",
        "      if float(i[pos])-erro < param < float(i[pos])+erro:\n",
        "        selecionados.append(i)\n",
        "  return selecionados\n",
        "\n",
        "def consultastring(param,dados):\n",
        "  selec=[]\n",
        "  for t in dados:\n",
        "    if t[0]==param:\n",
        "      selec.append(t)\n",
        "  return selec\n",
        "#Consultando o banco de dados com a paralaxe, e colocando as estrelas selecionadas na lista : \"estrelas0\"\n",
        "estrelas0=consultafloat(plx,posplx,data,0.0001)\n",
        "#Caso mais de uma estrela for selecionada, verificar o banco de dados com a Magnitude em V\n",
        "if len(estrelas0)>1:\n",
        "  estrelas1=consultafloat(mv,posmv,estrelas0,0.01)\n",
        "  #Se ainda restar mais de uma estrela, verificar com a Magnitude em B\n",
        "  if len(estrelas1)>1:\n",
        "    estrelas2=consultafloat(mb,posmb,estrelas1,0.01)\n",
        "    estrelafinal=estrelas2[0]\n",
        "  else:\n",
        "    estrelafinal=estrelas1[0]\n",
        "else:\n",
        "  estrelafinal=estrelas0[0]\n",
        "#'estrelafinal' contem os dados da estrela procuarada\n",
        "nome=estrelafinal[1]\n",
        "tipospect=estrelafinal[8]\n",
        "#Algumas estrelas possuem outras especificações no tipo espectral, que não serão usadas neste programa Ex : B9.5VCrEuSi\n",
        "#Reduzir o tipo espectral com apenas as informações utilizadas Ex : B9.5VCrEuSi -> B9.5V\n",
        "c=tipospect.find('V')\n",
        "tipospect=tipospect[:c+1]\n"
      ],
      "metadata": {
        "id": "0K38zsC9NQB6"
      },
      "execution_count": 350,
      "outputs": []
    },
    {
      "cell_type": "code",
      "source": [
        "#Agora consultando a tabela de referencias para estrelas da sequencia principal\n",
        "\n",
        "teff=float((consultastring(tipospect,data_seqprinc))[0][1])\n",
        "logteff=float(consultastring(tipospect,data_seqprinc)[0][2])\n",
        "BCv=float(consultastring(tipospect,data_seqprinc)[0][3])\n",
        "logLum=float(consultastring(tipospect,data_seqprinc)[0][4])\n",
        "Magbol=float(consultastring(tipospect,data_seqprinc)[0][5])\n",
        "R_Rsol=float(consultastring(tipospect,data_seqprinc)[0][6])\n",
        "MagV=float(consultastring(tipospect,data_seqprinc)[0][7])\n",
        "B_V=float(consultastring(tipospect,data_seqprinc)[0][8])\n",
        "M_Msol=float(consultastring(tipospect,data_seqprinc)[0][9])\n",
        "\n",
        "#Função que retorna o tempo restante para a estrela na sequência principal(m= massa da estrela em massas solares, L=log da luminosidade/Lsol na base 10)\n",
        "def temponuclear(m,L):\n",
        "  #calcular a energia que pode ser produzida no núcleo da estrela\n",
        "  #10% da massa da estrela no nucleo\n",
        "  #0.7% da massa dos protons convertidas em energia(E=mc^2)\n",
        "  Msol=1.9*pow(10,30)\n",
        "  Lsol=3.9*pow(10,26)\n",
        "\n",
        "  Lum=pow(10,L)*Lsol\n",
        "  en=0.0007*(m*Msol)*(pow(3*(10**8),2))\n",
        "  #O tempo restante da estrela na sequencia principal pode ser aproximado pelo tempo nuclear(em segundos)\n",
        "  tnuclear=en/Lum\n",
        "  tnuclear=tnuclear/(3600*24*356)\n",
        "\n",
        "  return tnuclear/10**6\n",
        "  \n",
        "#Funcao que retorna os parametros em RGB da aproximacao da cor emitida pela estrela\n",
        "def cor(temp):\n",
        "  #Parametro vermelho da cor(0-255)\n",
        "  r=temp/100\n",
        "  if r<=60:\n",
        "    r=255\n",
        "  else:\n",
        "    r= r-60\n",
        "    r= 329.7*(pow(r,-0.13))\n",
        "    if r<0:\n",
        "      r=0\n",
        "    if r>255:\n",
        "      r=255\n",
        "  #Parametro verde (0-255)\n",
        "  g=temp/100\n",
        "  if g<=66:\n",
        "    g= (99.5 * np.log(g)) - 161.1\n",
        "  else:\n",
        "    g= 288.1*(pow(g,-0.075))\n",
        "    if g<0:\n",
        "      g=0\n",
        "    if g>255:\n",
        "      g=255\n",
        "  #Parametro azul (0-255)\n",
        "  b=temp/100\n",
        "  if b>=66:\n",
        "    b=255\n",
        "  else:\n",
        "    if b<=19:\n",
        "      b=0\n",
        "    else:\n",
        "      b= b-10\n",
        "      b=(138.5* np.log(b)) - 305\n",
        "      if b<0:\n",
        "        b=0\n",
        "      if b>255:\n",
        "        b=255\n",
        "  #Passando os valores de 0-255 para 0-1\n",
        "  return r/255,g/255,b/255\n",
        "\n",
        "\n",
        "#Função para deteminar como será o fim da evolucao da estrela\n",
        "def finalevol(m):\n",
        "  if m >25:\n",
        "    return 'se tornar um Buraco Negro'\n",
        "  elif 8<m<=25:\n",
        "    return 'explodir como uma Supernova e formar uma Estrela de Neutrôns'\n",
        "  elif 0.45<m<=8:\n",
        "    return 'se tornar uma anã branca de C/O'\n",
        "  elif 0.08<=m<=0.45:\n",
        "    return 'se tornar uma anã branca de He'\n",
        "\n",
        "\n",
        "\n"
      ],
      "metadata": {
        "id": "lRqoHXX5pO75"
      },
      "execution_count": 351,
      "outputs": []
    },
    {
      "cell_type": "code",
      "source": [
        "#São exibidos os parâmetros calculados anteriormente\n",
        "print('Estrela procurada :',nome)\n",
        "print('====================================================')\n",
        "print('Dados da estrela :')\n",
        "print('----------------------------------------------------')\n",
        "print('Temperatura(K)=',teff,'(%.2f temperaturas solares)'%(teff/5772))\n",
        "print('----------------------------------------------------')\n",
        "print('Tipo spectral : ',tipospect)\n",
        "print('----------------------------------------------------')\n",
        "print('Luminosidade(em luminosidades solares)=%.1f'%pow(10,logLum))\n",
        "print('----------------------------------------------------')\n",
        "print('Massa(Massa solares)=',M_Msol)\n",
        "print('----------------------------------------------------')\n",
        "print('Raio(em raios solares)=%.3f'%R_Rsol)\n",
        "print('----------------------------------------------------')\n",
        "print('Magnitude em V=',MagV)\n",
        "print('----------------------------------------------------')\n",
        "print('Correção bolométrica',BCv)\n",
        "print('----------------------------------------------------')\n",
        "print('Índice de cor(B-V)=',B_V)\n",
        "print('----------------------------------------------------')\n",
        "print('Essa estrela vai deixar a sequência principal em %.0f milhões de anos'%(temponuclear(M_Msol,(pow(10,logLum)))))\n",
        "print('----------------------------------------------------')\n",
        "print('Ao fim de sua evolução essa estrela vai',finalevol(M_Msol))\n",
        "print('====================================================')"
      ],
      "metadata": {
        "colab": {
          "base_uri": "https://localhost:8080/"
        },
        "id": "mCZmt_ebucCM",
        "outputId": "10bdf8c1-acd0-4ef8-8edb-f79e012e7117"
      },
      "execution_count": 352,
      "outputs": [
        {
          "output_type": "stream",
          "name": "stdout",
          "text": [
            "Estrela procurada : HD218349\n",
            "====================================================\n",
            "Dados da estrela :\n",
            "----------------------------------------------------\n",
            "Temperatura(K)= 6280.0 (1.09 temperaturas solares)\n",
            "----------------------------------------------------\n",
            "Tipo spectral :  F7V\n",
            "----------------------------------------------------\n",
            "Luminosidade(em luminosidades solares)=2.5\n",
            "----------------------------------------------------\n",
            "Massa(Massa solares)= 1.21\n",
            "----------------------------------------------------\n",
            "Raio(em raios solares)=1.324\n",
            "----------------------------------------------------\n",
            "Magnitude em V= 3.8\n",
            "----------------------------------------------------\n",
            "Correção bolométrica -0.035\n",
            "----------------------------------------------------\n",
            "Índice de cor(B-V)= 0.5\n",
            "----------------------------------------------------\n",
            "Essa estrela vai deixar a sequência principal em 42 milhões de anos\n",
            "----------------------------------------------------\n",
            "Ao fim de sua evolução essa estrela vai se tornar uma anã branca de C/O\n",
            "====================================================\n"
          ]
        }
      ]
    },
    {
      "cell_type": "code",
      "source": [
        "#Conforme a função 'cor', é exibida a cor aproximada da estrela\n",
        "import matplotlib.pyplot as plt\n",
        "figure, axes = plt.subplots()\n",
        "C=cor(teff)\n",
        "cor = plt.Circle(( 0.5, 0.5 ), 0.2 ,color=(C))\n",
        " \n",
        "axes.set_aspect( 1 )\n",
        "axes.add_artist(cor)\n",
        "axes.set_facecolor('black')\n",
        "axes.set_xticks([])\n",
        "axes.set_yticks([])\n",
        "plt.title( 'Cor aproximada da estrela' )\n",
        "\n",
        "plt.show()"
      ],
      "metadata": {
        "colab": {
          "base_uri": "https://localhost:8080/",
          "height": 268
        },
        "id": "WGJdj8KJz30f",
        "outputId": "a835001c-ab47-4cb6-9b53-520d344d98fe"
      },
      "execution_count": 353,
      "outputs": [
        {
          "output_type": "display_data",
          "data": {
            "text/plain": [
              "<Figure size 432x288 with 1 Axes>"
            ],
            "image/png": "[encoded data removed]"
          },
          "metadata": {}
        }
      ]
    },
    {
      "cell_type": "code",
      "source": [
        "#Comparando o tamanho das estrelas\n",
        "import matplotlib.pyplot as plt\n",
        "fig, ax = plt.subplots()\n",
        "R_estrela=10*R_Rsol\n",
        "#Ajustando a proporção da imagem para diferentes relações entre os raios\n",
        "xy=R_estrela*4\n",
        "if R_estrela>=10:\n",
        "  xy=R_estrela*4\n",
        "  xsol=xy/4\n",
        "  xest=xy/1.5\n",
        "else:\n",
        "  xy=10*4\n",
        "  xest=xy/4\n",
        "  xsol=xy/1.5\n",
        "sol = plt.Circle(( xsol, xy/2 ), 10 ,color='gold')\n",
        "ax.scatter(xsol,xy/2,color='gold',label='Sol')\n",
        "\n",
        "estrela= plt.Circle((xest, xy/2 ), R_estrela ,color=(C))\n",
        "ax.scatter(xest, xy/2 ,color=(C),label=nome)\n",
        "\n",
        "ax.legend()\n",
        "\n",
        "ax.set(xlim=(0,xy),\n",
        "         ylim=(0,xy))\n",
        "ax.set_aspect( 1 )\n",
        "ax.set_facecolor('black')\n",
        "ax.add_artist(estrela)\n",
        "ax.add_artist(sol)\n",
        "ax.set_xticks([])\n",
        "ax.set_yticks([])\n",
        "plt.title( 'Comparação entre o tamanho da estrela e do sol' )\n",
        "\n",
        "plt.show()"
      ],
      "metadata": {
        "colab": {
          "base_uri": "https://localhost:8080/",
          "height": 268
        },
        "id": "vYiMGszi13Ew",
        "outputId": "d6cb83bf-f97d-43c5-f175-8d31417e8ece"
      },
      "execution_count": 354,
      "outputs": [
        {
          "output_type": "display_data",
          "data": {
            "text/plain": [
              "<Figure size 432x288 with 1 Axes>"
            ],
            "image/png": "[encoded data removed]"
          },
          "metadata": {}
        }
      ]
    },
    {
      "cell_type": "code",
      "source": [
        "import matplotlib.pyplot as plt\n",
        "from scipy.interpolate import interp1d\n",
        "#Plotando todos os tipos spectrais na sequencia principal para referencia\n",
        "fig, ax = plt.subplots()\n",
        "xseq=[]\n",
        "yseq=[]\n",
        "for p in data_seqprinc:\n",
        "  xseq.append(float(p[8]))\n",
        "  yseq.append(float(p[7]))\n",
        "  ax.scatter(float(p[8]),float(p[7]),c='silver')\n",
        "#Calculando a função polinomial que aproxima a sequencia principal\n",
        "fseq=interp1d(xseq,yseq,kind='cubic')\n",
        "plt.plot(xseq,fseq(xseq),'-',color='black',label='sequência principal')\n",
        "#Plotando a estrela no grafico\n",
        "ax.scatter(B_V,MagV,c='r',s=500,label=nome,marker='+')\n",
        "\n",
        "ax.set(xlim=(-0.5, 2.5),\n",
        "       ylim=(20, -10))\n",
        "ax.set_xlabel('Cor (B-V)')\n",
        "ax.set_ylabel('Magnitude Absoluta (Mv)')\n",
        "ax.set_title('Posição da estrela na sequência principal do diagrama HR')\n",
        "ax.legend()\n",
        "plt.show()"
      ],
      "metadata": {
        "colab": {
          "base_uri": "https://localhost:8080/",
          "height": 295
        },
        "id": "HPnQtkPKrOrp",
        "outputId": "2b699d8e-ef09-4f98-d28e-1efb4417c38f"
      },
      "execution_count": 355,
      "outputs": [
        {
          "output_type": "display_data",
          "data": {
            "text/plain": [
              "<Figure size 432x288 with 1 Axes>"
            ],
            "image/png": "[encoded data removed]"
          },
          "metadata": {
            "needs_background": "light"
          }
        }
      ]
    }
  ]
}